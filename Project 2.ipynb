{
 "cells": [
  {
   "cell_type": "markdown",
   "id": "56a20e6c",
   "metadata": {},
   "source": [
    "# A project to calculate the withdrawal cost\n",
    "It shows how much a person needs inorder to withdraw a certain amount of money"
   ]
  },
  {
   "cell_type": "code",
   "execution_count": 10,
   "id": "b4d8350a",
   "metadata": {},
   "outputs": [
    {
     "name": "stdout",
     "output_type": "stream",
     "text": [
      "ENTER AMOUNT:12000\n",
      "The withdrawal cost for 12000 KES is 162.0 KES.\n"
     ]
    }
   ],
   "source": [
    "def calculate_withdrawal_cost(withdrawal_amount):\n",
    "    if withdrawal_amount <= 50:\n",
    "        cost = 0.0\n",
    "    elif withdrawal_amount <= 100:\n",
    "        cost = 10.0\n",
    "    elif withdrawal_amount <= 500:\n",
    "        cost = 27.0\n",
    "    elif withdrawal_amount <= 2500:\n",
    "        cost = 28.0\n",
    "    elif withdrawal_amount <= 3500:\n",
    "        cost = 50.0\n",
    "    elif withdrawal_amount <= 5000:\n",
    "        cost = 67.0\n",
    "    elif withdrawal_amount <= 7500:\n",
    "        cost = 84.0\n",
    "    elif withdrawal_amount <= 10000:\n",
    "        cost = 112.0\n",
    "    elif withdrawal_amount <= 15000:\n",
    "        cost = 162.0\n",
    "    elif withdrawal_amount <= 20000:\n",
    "        cost = 180.0\n",
    "    elif withdrawal_amount <= 25000:\n",
    "        cost = 191.0\n",
    "    elif withdrawal_amount <= 30000:\n",
    "        cost = 191.0\n",
    "    elif withdrawal_amount <= 35000:\n",
    "        cost = 270.0\n",
    "    elif withdrawal_amount <= 40000:\n",
    "        cost = 270.0\n",
    "    elif withdrawal_amount <= 45000:\n",
    "        cost = 300.0\n",
    "    elif withdrawal_amount <= 50000:\n",
    "        cost = 330.0\n",
    "    elif withdrawal_amount <= 60000:\n",
    "        cost = 330.0\n",
    "    else:\n",
    "        cost =353\n",
    "    \n",
    "    return cost\n",
    "withdrawal_amount = int(input(\"ENTER AMOUNT:\")) \n",
    "withdrawal_cost = calculate_withdrawal_cost(withdrawal_amount)\n",
    "if withdrawal_cost >= 0:\n",
    "    print(f\"The withdrawal cost for {withdrawal_amount} KES is {withdrawal_cost} KES.\")\n",
    "else:\n",
    "    print(\"Invalid withdrawal amount.\")\n"
   ]
  },
  {
   "cell_type": "markdown",
   "id": "67276773",
   "metadata": {},
   "source": [
    "# A project to show the population distribution of a county\n",
    "The project determines how the population of sample counties in the country is distributed"
   ]
  },
  {
   "cell_type": "code",
   "execution_count": 15,
   "id": "9a999791",
   "metadata": {},
   "outputs": [
    {
     "name": "stdout",
     "output_type": "stream",
     "text": [
      "Enter county name: Kisumu\n",
      "The county 'Kisumu' is Densely Populated.\n"
     ]
    }
   ],
   "source": [
    "def check_population_density(county , population):\n",
    "    if county in population:\n",
    "        population = population[county]\n",
    "        if population >= 100000:  \n",
    "            return \"Densely Populated\"\n",
    "        else:\n",
    "            return \"Scarcely Populated\"\n",
    "    else:\n",
    "        return \"County population  not found.\"\n",
    "county_population = {\n",
    "    \"Baringo\": 150000,\n",
    "    \"Uasin Gishu\": 80000,\n",
    "    \"Bomet\": 250000,\n",
    "    \"Nyeri\": 35000,\n",
    "    \"Mombasa\": 15000,\n",
    "    \"Turkana\": 670000,\n",
    "    \"Eldoret\": 987000,\n",
    "    \"Kisumu\": 650000,\n",
    "}\n",
    "county = input(\"Enter county name: \")\n",
    "population_density = check_population_density(county, county_population)\n",
    "print(f\"The county '{county}' is {population_density}.\")\n"
   ]
  },
  {
   "cell_type": "code",
   "execution_count": null,
   "id": "3a9696bb",
   "metadata": {},
   "outputs": [],
   "source": []
  },
  {
   "cell_type": "code",
   "execution_count": null,
   "id": "02bb409a",
   "metadata": {},
   "outputs": [],
   "source": []
  }
 ],
 "metadata": {
  "kernelspec": {
   "display_name": "Python 3 (ipykernel)",
   "language": "python",
   "name": "python3"
  },
  "language_info": {
   "codemirror_mode": {
    "name": "ipython",
    "version": 3
   },
   "file_extension": ".py",
   "mimetype": "text/x-python",
   "name": "python",
   "nbconvert_exporter": "python",
   "pygments_lexer": "ipython3",
   "version": "3.9.12"
  }
 },
 "nbformat": 4,
 "nbformat_minor": 5
}
